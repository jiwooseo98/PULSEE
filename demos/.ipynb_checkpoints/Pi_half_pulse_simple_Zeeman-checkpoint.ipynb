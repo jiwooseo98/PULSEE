{
 "cells": [
  {
   "cell_type": "markdown",
   "id": "d7dfda2c",
   "metadata": {},
   "source": [
    "# PULSEE $\\frac{\\pi}{2}$ - Pulse, a Simple Zeeman Interaction"
   ]
  },
  {
   "cell_type": "markdown",
   "id": "9a3c16c1",
   "metadata": {},
   "source": [
    "#### Jiwoo Seo, Ilija N."
   ]
  },
  {
   "cell_type": "markdown",
   "id": "35c3a9c8",
   "metadata": {},
   "source": [
    "## Imports"
   ]
  },
  {
   "cell_type": "code",
   "execution_count": 1,
   "id": "9d7db93c",
   "metadata": {
    "ExecuteTime": {
     "end_time": "2024-02-02T23:25:38.098921200Z",
     "start_time": "2024-02-02T23:25:37.895657300Z"
    }
   },
   "outputs": [],
   "source": [
    "import numpy as np \n",
    "import pandas as pd\n",
    "from pulsee import simulation as sim, operators as op\n",
    "import pulsee.plot as psplt # 'psplt' = 'pulsee plot'\n",
    "from pulsee.pulses import Pulses\n",
    "import qutip as qt \n",
    "# import matplotlib.pylab as plt"
   ]
  },
  {
   "cell_type": "markdown",
   "id": "508f6f4f",
   "metadata": {},
   "source": [
    "## Quantum System Setup\n",
    "Spin-$\\frac{1}{2}$ system with $\\gamma/2\\pi = 5.00$ MHz/T (see Candoli thesis §4.1) and $B_0 = 2 \\pi$ T:"
   ]
  },
  {
   "cell_type": "code",
   "execution_count": 2,
   "id": "bb7a43e8",
   "metadata": {
    "ExecuteTime": {
     "end_time": "2024-02-02T23:25:38.101920600Z",
     "start_time": "2024-02-02T23:25:37.902795400Z"
    }
   },
   "outputs": [],
   "source": [
    "QUANTUM_NUMBERS = [1/2] # spin 1/2\n",
    "GAMMA_2PIS = [5 / (2 * np.pi)] # = gamma / 2pi\n",
    "B0 = 2 * np.pi\n",
    "W0 = GAMMA_2PIS[0] * B0 * 2 * np.pi # Careful with the sign AND DON'T FORGET * 2PI (radial frequency)\n",
    "\n",
    "zeem_par = {'field magnitude' : B0, 'theta_z' : 0, 'phi_z' : 0}"
   ]
  },
  {
   "cell_type": "code",
   "execution_count": 3,
   "id": "e669420a",
   "metadata": {
    "ExecuteTime": {
     "end_time": "2024-02-02T23:25:38.250057500Z",
     "start_time": "2024-02-02T23:25:37.911518900Z"
    }
   },
   "outputs": [
    {
     "name": "stdout",
     "output_type": "stream",
     "text": [
      "Larmor frequency: 5.0 MHz\n"
     ]
    }
   ],
   "source": [
    "print('Larmor frequency:', W0/(2*np.pi), 'MHz')"
   ]
  },
  {
   "cell_type": "markdown",
   "id": "e2f53dfb",
   "metadata": {},
   "source": [
    "## Experiment Settings"
   ]
  },
  {
   "cell_type": "code",
   "execution_count": 4,
   "id": "63c53a33",
   "metadata": {
    "ExecuteTime": {
     "end_time": "2024-02-02T23:25:38.255866100Z",
     "start_time": "2024-02-02T23:25:37.921678700Z"
    }
   },
   "outputs": [],
   "source": [
    "ACQUISITION_TIME = 50 # in microseconds\n",
    "T2 = 10"
   ]
  },
  {
   "cell_type": "markdown",
   "id": "f762041f",
   "metadata": {},
   "source": [
    "## Hamiltonians\n",
    "Here we add the desired Hamiltonian interaction terms. Add these to the following dictionary `args` with key as it appears in `nuclear_system_setup` function. The value should be the parameters of the associated Hamiltonian as it appears in `nuclear_system_setup`."
   ]
  },
  {
   "cell_type": "code",
   "execution_count": 5,
   "id": "2de6342f",
   "metadata": {
    "ExecuteTime": {
     "end_time": "2024-02-02T23:25:38.289862700Z",
     "start_time": "2024-02-02T23:25:37.932697600Z"
    }
   },
   "outputs": [],
   "source": [
    "h_dict = {\n",
    "}"
   ]
  },
  {
   "cell_type": "markdown",
   "id": "b7ab2a0a",
   "metadata": {},
   "source": [
    "### Run `sim.nuclear_system_setup` after setting up the arguments"
   ]
  },
  {
   "cell_type": "code",
   "execution_count": 6,
   "id": "95c91538",
   "metadata": {
    "ExecuteTime": {
     "end_time": "2024-02-02T23:25:38.290864800Z",
     "start_time": "2024-02-02T23:25:37.940865500Z"
    }
   },
   "outputs": [],
   "source": [
    "args = h_dict.copy()\n",
    "spin_par = []\n",
    "for qn, gam in zip(QUANTUM_NUMBERS, GAMMA_2PIS):\n",
    "    spin_par.append({'quantum number': qn, 'gamma/2pi': gam})\n",
    "\n",
    "args['spin_par'] = spin_par \n",
    "args['zeem_par'] = zeem_par\n",
    "# Initial state is canocial\n",
    "spin, h_unperturbed, rho_0 = sim.nuclear_system_setup(**args)"
   ]
  },
  {
   "cell_type": "code",
   "execution_count": 7,
   "id": "4fba3b2e",
   "metadata": {
    "ExecuteTime": {
     "end_time": "2024-02-02T23:25:38.290864800Z",
     "start_time": "2024-02-02T23:25:37.953429500Z"
    }
   },
   "outputs": [],
   "source": [
    "Iz = spin.I['z']\n",
    "Ix = spin.I['x']\n",
    "Iy = spin.I['y']"
   ]
  },
  {
   "cell_type": "code",
   "execution_count": 8,
   "id": "ed3f7d74",
   "metadata": {
    "ExecuteTime": {
     "end_time": "2024-02-02T23:25:38.296865900Z",
     "start_time": "2024-02-02T23:25:37.961928600Z"
    },
    "scrolled": true
   },
   "outputs": [
    {
     "name": "stdout",
     "output_type": "stream",
     "text": [
      "PRINTING OUT DIMS[0]: [2]\n"
     ]
    },
    {
     "data": {
      "image/png": "[encoded data removed]",
      "text/plain": [
       "<Figure size 640x480 with 1 Axes>"
      ]
     },
     "metadata": {},
     "output_type": "display_data"
    }
   ],
   "source": [
    "f, p = sim.power_absorption_spectrum(spin, h_unperturbed, normalized=True)\n",
    "_ = psplt.plot_power_absorption_spectrum(f, p)"
   ]
  },
  {
   "cell_type": "markdown",
   "id": "f8b71fda",
   "metadata": {},
   "source": [
    "## Pulse\n",
    "Set up single mode pulse of form \n",
    "$$\\mathbf{B}_1(t) = 2 B_1 \\cos(2\\pi \\nu + \\delta)\\cdot \\hat{\\mathbf{n}}(\\theta, \\phi)$$\n",
    "where $\\theta$ and $\\phi$ are the polar and azimuthal angles respectively.\n",
    "\n",
    "For simplest case apply $\\pi/2$ pulse with $B_1 = B_0 / 10 $, $ \\nu = (\\gamma/2\\pi) \\cdot B_0 $, $\\delta = \\phi =0$, $\\theta=\\pi/2$ --> $I_x$ pulse."
   ]
  },
  {
   "cell_type": "code",
   "execution_count": 9,
   "id": "8fe0e265",
   "metadata": {
    "ExecuteTime": {
     "end_time": "2024-02-02T23:25:38.315900400Z",
     "start_time": "2024-02-02T23:25:38.241520100Z"
    }
   },
   "outputs": [
    {
     "ename": "TypeError",
     "evalue": "Pulses.__init__() got an unexpected keyword argument 'pulse_shape'",
     "output_type": "error",
     "traceback": [
      "\u001b[0;31m---------------------------------------------------------------------------\u001b[0m",
      "\u001b[0;31mTypeError\u001b[0m                                 Traceback (most recent call last)",
      "Cell \u001b[0;32mIn[9], line 7\u001b[0m\n\u001b[1;32m      5\u001b[0m TIP_ANGLE \u001b[38;5;241m=\u001b[39m np\u001b[38;5;241m.\u001b[39mpi \u001b[38;5;241m/\u001b[39m \u001b[38;5;241m2\u001b[39m\n\u001b[1;32m      6\u001b[0m PULSE_TIME \u001b[38;5;241m=\u001b[39m TIP_ANGLE \u001b[38;5;241m/\u001b[39m (\u001b[38;5;241m2\u001b[39m \u001b[38;5;241m*\u001b[39m np\u001b[38;5;241m.\u001b[39mpi\u001b[38;5;241m*\u001b[39m GAMMA_2PIS[\u001b[38;5;241m0\u001b[39m] \u001b[38;5;241m*\u001b[39m B1) \u001b[38;5;66;03m# using gamma/2pi, NOT gamma!\u001b[39;00m\n\u001b[0;32m----> 7\u001b[0m mode \u001b[38;5;241m=\u001b[39m \u001b[43mPulses\u001b[49m\u001b[43m(\u001b[49m\u001b[43mfrequencies\u001b[49m\u001b[38;5;241;43m=\u001b[39;49m\u001b[43m[\u001b[49m\u001b[43mW0\u001b[49m\u001b[43m]\u001b[49m\u001b[43m,\u001b[49m\u001b[43m \u001b[49m\u001b[43mamplitudes\u001b[49m\u001b[38;5;241;43m=\u001b[39;49m\u001b[43m[\u001b[49m\u001b[43mB1\u001b[49m\u001b[43m]\u001b[49m\u001b[43m,\u001b[49m\u001b[43m \u001b[49m\u001b[43mphases\u001b[49m\u001b[38;5;241;43m=\u001b[39;49m\u001b[43m[\u001b[49m\u001b[43mPHASE_B1\u001b[49m\u001b[43m]\u001b[49m\u001b[43m,\u001b[49m\u001b[43m \u001b[49m\u001b[43mtheta_p\u001b[49m\u001b[38;5;241;43m=\u001b[39;49m\u001b[43m[\u001b[49m\u001b[43mPOLAR_B1\u001b[49m\u001b[43m]\u001b[49m\u001b[43m,\u001b[49m\u001b[43m \u001b[49m\u001b[43mphi_p\u001b[49m\u001b[38;5;241;43m=\u001b[39;49m\u001b[43m[\u001b[49m\u001b[43mAZIMUTHAL_B1\u001b[49m\u001b[43m]\u001b[49m\u001b[43m,\u001b[49m\u001b[43m \u001b[49m\u001b[43mpulse_times\u001b[49m\u001b[38;5;241;43m=\u001b[39;49m\u001b[43m[\u001b[49m\u001b[43mPULSE_TIME\u001b[49m\u001b[43m]\u001b[49m\u001b[43m,\u001b[49m\u001b[43m \u001b[49m\u001b[43mpulse_shape\u001b[49m\u001b[38;5;241;43m=\u001b[39;49m\u001b[38;5;124;43m\"\u001b[39;49m\u001b[38;5;124;43mgaussian\u001b[39;49m\u001b[38;5;124;43m\"\u001b[39;49m\u001b[43m)\u001b[49m\n",
      "\u001b[0;31mTypeError\u001b[0m: Pulses.__init__() got an unexpected keyword argument 'pulse_shape'"
     ]
    }
   ],
   "source": [
    "B1 = B0 / 100\n",
    "PHASE_B1 = np.pi*0\n",
    "POLAR_B1 = np.pi / 2\n",
    "AZIMUTHAL_B1 = 0\n",
    "TIP_ANGLE = np.pi / 2\n",
    "PULSE_TIME = TIP_ANGLE / (2 * np.pi* GAMMA_2PIS[0] * B1) # using gamma/2pi, NOT gamma!\n",
    "mode = Pulses(frequencies=[W0], amplitudes=[B1], phases=[PHASE_B1], theta_p=[POLAR_B1], phi_p=[AZIMUTHAL_B1], pulse_times=[PULSE_TIME], shape=\"gaussian\")"
   ]
  },
  {
   "cell_type": "code",
   "execution_count": null,
   "id": "4835f10b",
   "metadata": {
    "ExecuteTime": {
     "end_time": "2024-02-02T23:25:38.317900100Z",
     "start_time": "2024-02-02T23:25:38.251059Z"
    }
   },
   "outputs": [],
   "source": [
    "PULSE_TIME"
   ]
  },
  {
   "cell_type": "markdown",
   "id": "0b6930e7",
   "metadata": {},
   "source": [
    "##  Simulation"
   ]
  },
  {
   "cell_type": "code",
   "execution_count": null,
   "id": "bc0a81f8",
   "metadata": {
    "ExecuteTime": {
     "end_time": "2024-02-02T23:25:38.918398700Z",
     "start_time": "2024-02-02T23:25:38.259866400Z"
    },
    "scrolled": true
   },
   "outputs": [],
   "source": [
    "#Evolve the intial state until a square pi/2 pulse is applied using the magnus solver in the interaction picture\n",
    "evolved_dm = sim.evolve(spin, h_unperturbed, rho_0, solver='magnus', picture='IP',\n",
    "\t\t\t\t\t\tmode=mode, n_points=166, order=1)\n",
    "evolved_dm"
   ]
  },
  {
   "cell_type": "code",
   "execution_count": null,
   "id": "ba4de34c",
   "metadata": {
    "ExecuteTime": {
     "end_time": "2024-02-02T23:25:38.935525Z",
     "start_time": "2024-02-02T23:25:38.917404100Z"
    }
   },
   "outputs": [],
   "source": [
    "RRF_par={'nu_RRF': W0/(2 * np.pi), 'theta_RRF': 0, 'phi_RRF': 0}\n",
    "RRF_par"
   ]
  },
  {
   "cell_type": "code",
   "execution_count": null,
   "id": "ce66eff1",
   "metadata": {
    "ExecuteTime": {
     "end_time": "2024-02-02T23:25:39.121509600Z",
     "start_time": "2024-02-02T23:25:38.928526300Z"
    },
    "scrolled": true
   },
   "outputs": [],
   "source": [
    "#Evolve the intial state until a square pi/2 pulse is applied using the magnus solver  \n",
    "evolved_dm_magnus = sim.evolve(spin, h_unperturbed, rho_0, solver='magnus', picture='RRF', RRF_par=RRF_par,\n",
    "\t\t\t\t\t\tmode=mode, n_points=30, order=1)\n",
    "evolved_dm_magnus"
   ]
  },
  {
   "cell_type": "code",
   "execution_count": null,
   "id": "0ba36648",
   "metadata": {
    "ExecuteTime": {
     "end_time": "2024-02-02T23:25:39.282152100Z",
     "start_time": "2024-02-02T23:25:39.107509300Z"
    },
    "scrolled": true
   },
   "outputs": [],
   "source": [
    "evolved_dm_mesolve = sim.evolve(spin, h_unperturbed, rho_0, solver='mesolve',\n",
    "\t\t\t\t\t\tmode=mode, n_points=100)\n",
    "evolved_dm_mesolve"
   ]
  },
  {
   "cell_type": "code",
   "execution_count": null,
   "id": "c3fa7cf8",
   "metadata": {
    "ExecuteTime": {
     "end_time": "2024-02-02T23:25:39.283149300Z",
     "start_time": "2024-02-02T23:25:39.193148200Z"
    }
   },
   "outputs": [],
   "source": [
    "op.apply_rot_pulse(rho_0, np.pi/2, Ix)"
   ]
  },
  {
   "cell_type": "code",
   "execution_count": null,
   "id": "c155bbfd",
   "metadata": {
    "ExecuteTime": {
     "end_time": "2024-02-02T23:25:39.589146400Z",
     "start_time": "2024-02-02T23:25:39.205147300Z"
    }
   },
   "outputs": [],
   "source": [
    "print('Intial state')\n",
    "_ = psplt.plot_complex_density_matrix(rho_0)\n",
    "print('Evolved')\n",
    "_ = psplt.plot_complex_density_matrix(evolved_dm)"
   ]
  },
  {
   "cell_type": "markdown",
   "id": "6207e5e1",
   "metadata": {},
   "source": [
    "# Generate FID"
   ]
  },
  {
   "cell_type": "code",
   "execution_count": null,
   "id": "016c1cf2",
   "metadata": {
    "ExecuteTime": {
     "end_time": "2024-02-02T23:25:39.738152Z",
     "start_time": "2024-02-02T23:25:39.586149100Z"
    }
   },
   "outputs": [],
   "source": [
    "t, fid = sim.FID_signal(spin, h_unperturbed, evolved_dm, \n",
    "\t\t\t\t\t\tacquisition_time=ACQUISITION_TIME, T2=T2, n_points=1000)\n",
    "\t\t\t\t\t\t"
   ]
  },
  {
   "cell_type": "code",
   "execution_count": null,
   "id": "900f3d3a",
   "metadata": {
    "ExecuteTime": {
     "end_time": "2024-02-02T23:25:39.750657Z",
     "start_time": "2024-02-02T23:25:39.740151600Z"
    }
   },
   "outputs": [],
   "source": [
    "f, ft = sim.fourier_transform_signal(fid, t, padding=2)"
   ]
  },
  {
   "cell_type": "code",
   "execution_count": null,
   "id": "1b46f972",
   "metadata": {
    "ExecuteTime": {
     "end_time": "2024-02-02T23:25:40.029657900Z",
     "start_time": "2024-02-02T23:25:39.747662400Z"
    }
   },
   "outputs": [],
   "source": [
    "psplt.plot_real_part_FID_signal(t, fid)\n",
    "_ = psplt.plot_fourier_transform(f, ft, square_modulus=True, save=False, xlim=(4, 6))"
   ]
  },
  {
   "cell_type": "code",
   "execution_count": null,
   "id": "a6415dbb-9df2-4fe5-94d9-4d456b6d405a",
   "metadata": {},
   "outputs": [],
   "source": []
  }
 ],
 "metadata": {
  "kernelspec": {
   "display_name": "pulsee_env",
   "language": "python",
   "name": "pulsee_env"
  },
  "language_info": {
   "codemirror_mode": {
    "name": "ipython",
    "version": 3
   },
   "file_extension": ".py",
   "mimetype": "text/x-python",
   "name": "python",
   "nbconvert_exporter": "python",
   "pygments_lexer": "ipython3",
   "version": "3.11.9"
  }
 },
 "nbformat": 4,
 "nbformat_minor": 5
}
